{
  "nbformat": 4,
  "nbformat_minor": 0,
  "metadata": {
    "colab": {
      "provenance": [],
      "toc_visible": true,
      "include_colab_link": true
    },
    "kernelspec": {
      "name": "python3",
      "display_name": "Python 3"
    },
    "language_info": {
      "name": "python"
    }
  },
  "cells": [
    {
      "cell_type": "markdown",
      "metadata": {
        "id": "view-in-github",
        "colab_type": "text"
      },
      "source": [
        "<a href=\"https://colab.research.google.com/github/thiagograsso/matemagica/blob/main/C%C3%B3pia_de_RA3_Em_Grupo.ipynb\" target=\"_parent\"><img src=\"https://colab.research.google.com/assets/colab-badge.svg\" alt=\"Open In Colab\"/></a>"
      ]
    },
    {
      "cell_type": "markdown",
      "source": [
        "# Avaliação em GRUPO RA3 - 2024-1\n",
        "\n",
        "**ATENÇÃO: O GOOGLE COLABORATORY ESTÁ APRESENTANDO INSTABILIDADES DE ACESSO NOS COMPUTADORES DA INSTITUIÇÃO. COMO ESTE É UM TRABALHO EM GRUPO CABERÁ A VOCÊ ENCONTRAR UM COMPUTADOR ONDE SEJA POSSÍVEL ENVIAR SEU TRABALHO. LEMBRE-SE: SE FIZER O TRABALHO EM OUTRO AMBIENTE DEVE TESTÁ-LO NO GOOGLE COLABORATORY ANTES DE ENVIAR O LINK COM A SUA RESPOSTA.**\n",
        "\n",
        "**Antes de começar, leia estas instruções cuidadosamente.**\n",
        "Esta avaliação é individual. Você poderá consultar qualquer fonte disponível na biblioteca, suas anotações ou na internet. Mas, não poderá consultar outras pessoas.\n",
        "\n",
        "**Não existirão prorrogações de prazo de entrega.** Se programe para entregar sua avaliação 5 minutos antes do fim do prazo para evitar imprevistos de última hora.\n",
        "\n",
        "**Trabalhos idênticos entregues por pessoas, diferentes, serão zerados.** Todos os trabalhos serão submetidos a verificação de plágio. Isso significa que respostas copiadas e coladas de sistemas de inteligência artificial que sejam classificados com semelhança maior que 70% também serão zerados. Qualquer diagnóstico indicativo de plágio acima de 70% também irá provocar o zeramento da avaliação.\n",
        "\n",
        "Para que sua avaliação seja considerada **todos os trabalhos serão entregues em uma cópia deste caderno de atividades na forma de um link postado no AVA da instituição (Canvas)** apenas no local correspondente a essa entrega na avaliação. Qualquer link enviado em comentários, e-mails, mensagens de Whatsapp, ou qualquer outro meio eletrônico serão ignorados provocando o zeramento desta avaliação.\n",
        "\n",
        "Entrega será realizada com a postagem de um link para um ambiente de execução, no AVA da institução. Neste link o **seu caderno deve permitir ser executado (permissão de leitor)**. Serão aceitos links diretos ao ambiente do Google Colaboratory, ou Links a um caderno do Google Colaboratory que tenha sido **salvo pelo próprio Google Colaboratory** no GitHub. Links para outro ambiente, ou que requeiram qualquer tipo de **download, cliques extras, ou ainda, que requeiram aprovação para acesso, provocarão o zeramento desta avaliação**.\n",
        "\n",
        "Antes de enviar o seu trabalho, teste o compartilhamento em uma aba anônima do seu navegador web preferido.\n",
        "\n",
        "Todos os enunciados devem ser preservados e você deverá inserir uma célula de textos com o **seu nome, logo após esta célula de texto de instruções**.\n",
        "\n",
        "**Qualquer alteração do caderno contendo as suas respostas que seja registrada após a data de postagem provocará a anulação da avaliação**.\n",
        "\n",
        "Você poderá usar, nas suas respostas, só e somente só, a **linguagem Python** limitada ao uso das seguintes bibliotecas: **math, numpy, sympy, matplotlib, ipWidgets e IPython**. O uso de qualquer biblioteca não listada nestas instruções irá provocar o zeramento da avaliação.\n",
        "\n",
        "**Todo e qualquer gráfico que usar nas suas respostas deverá ser criado usando o Python**."
      ],
      "metadata": {
        "id": "rOQxiRt9gkIA"
      }
    },
    {
      "cell_type": "markdown",
      "source": [
        "**THIAGO GRASSO**"
      ],
      "metadata": {
        "id": "iS9tt6El_gxZ"
      }
    },
    {
      "cell_type": "markdown",
      "source": [
        "#Questão 1 - Vale até 2 pontos\n",
        "\n",
        "Plote em um gráfico, usando apenas Python, a região delimitada pelas funções $f(y) = y^2 + 2$, $g(y) = 0$, $y = -1$, $y = 2$ encontre a área, com respeito a $y$ usando apenas a álgebra e confirme seu resultado com ferramentas computacionais.\n",
        "\n",
        "\n"
      ],
      "metadata": {
        "id": "ps7lcXn04YJN"
      }
    },
    {
      "cell_type": "markdown",
      "source": [
        "**Resposta: A área é igual a 9**\n",
        "\n",
        "**Explicação:**\n",
        "\n",
        "Definir a expressão para a área de $A$:\n",
        "$$A = \\int_{-1}^{2}(f(y) - g(y))dy$$\n",
        "\n",
        "Sabemos que $g(y) = 0$, de acordo com o enunciado, assim como sabemos que $f(y) = y^2 + 2$. Considerando a expressão anterior, podemos substituir os valores com os dados conhecidos, desta forma:\n",
        "$$A = \\int_{-1}^{2}(y^2 + 2 - 0)dy = \\int_{-1}^{2}(y^2 + 2)dy$$\n",
        "Com a nova expressão simplificada, resolver as integrais de $y^2$ e $2$:\n",
        "$$\\int y^2 dy = \\frac{y^3}{3} $$\n",
        "Para $y^2$, e:\n",
        "$$\\int 2\\ dy = 2y$$\n",
        "Para $2$.\n",
        "\n",
        "Então, avaliar os limites de integração:\n",
        "$$A = \\left[\\frac{y^3}{3} + 2y \\right]_{-1}^{2}$$\n",
        "Em seguida avaliar por $-1$ e $2$, em $[]_{-1}^{2}$, substituindo $y$ por estes valores:\n",
        "$$\\left(\\frac{2^3}{3} + (2 \\cdot 2)\\right) = \\left(\\frac{8}{3} + 4 \\right) = \\left(\\frac{8}{3} + \\frac{12}{3} \\right)$$\n",
        "$$= \\frac{20}{3}$$\n",
        "Para $y = 2$, e:\n",
        "$$\\left(\\frac{-1^3}{3} + (2 \\cdot -1)\\right) = \\left(\\frac{-1}{3} - 2 \\right) = \\left(\\frac{-1}{3} - \\frac{6}{3}\\right)$$\n",
        "$$= \\frac{-7}{3}$$\n",
        "Para $y = -1$\n",
        "\n",
        "Para obter o resultado da área, basta apenas subtrair as avaliações acima:\n",
        "$$A = \\frac{20}{3} - \\frac{-7}{3} = \\frac{27}{3}$$\n",
        "$$= 9$$\n",
        "**Portanto, temos que a área é igual a $9$;**"
      ],
      "metadata": {
        "id": "8HPOEN6lQrTN"
      }
    },
    {
      "cell_type": "code",
      "source": [
        "import numpy as np\n",
        "import matplotlib.pyplot as plt\n",
        "from sympy import symbols, integrate, lambdify\n",
        "\n",
        "y = symbols('y')\n",
        "f = y**2 + 2\n",
        "g = 0\n",
        "\n",
        "lim_inf = -1\n",
        "lim_sup = 2\n",
        "\n",
        "area = integrate(f - g, (y, lim_inf, lim_sup))\n",
        "\n",
        "f_lamb = lambdify(y, f)\n",
        "\n",
        "y_vals = np.linspace(lim_inf, lim_sup, 1000)\n",
        "f_vals = f_lamb(y_vals)\n",
        "g_vals = np.zeros_like(y_vals)\n",
        "\n",
        "plt.plot(y_vals, f_vals, label='$f(y) = y^2 + 2$', color='r')\n",
        "plt.plot(y_vals, g_vals, label='$g(y) = 0$', color='b')\n",
        "\n",
        "plt.fill_between(y_vals, f_vals, g_vals, where=(y_vals >= lim_inf) & (y_vals <= lim_sup), color='lightblue', alpha=0.5)\n",
        "\n",
        "plt.xlim([lim_inf, lim_sup])\n",
        "plt.ylim([0, np.max(f_vals)+1])\n",
        "\n",
        "plt.title(f'Área entre as curvas: {area.evalf():.4f}')\n",
        "plt.legend()\n",
        "\n",
        "plt.xlabel('$y$')\n",
        "plt.ylabel('$f(y)$, $g(y)$')\n",
        "plt.grid(True)\n",
        "plt.show()\n"
      ],
      "metadata": {
        "colab": {
          "base_uri": "https://localhost:8080/",
          "height": 473
        },
        "id": "jbHYxOCiPHJi",
        "outputId": "a77b510a-6106-4fb8-839d-0a261bc1a443"
      },
      "execution_count": null,
      "outputs": [
        {
          "output_type": "display_data",
          "data": {
            "text/plain": [
              "<Figure size 640x480 with 1 Axes>"
            ],
            "image/png": "[encoded data removed]"
          },
          "metadata": {}
        }
      ]
    },
    {
      "cell_type": "markdown",
      "source": [
        "# Questão 2 - Vale até 4 pontos\n",
        "Seja $R$ a região delimitada pelos gráficos das funções $f(x) = \\frac{x}{2} + 5$ e $g(x) = x + \\frac{1}{2}$ no intervalo $[1, 5]$. Encontre a área da região $R$ usando apenas o Método dos Retângulos de Reimann. Depois, usando álgebra, ou qualquer outro método computacional para encontrar a área de $R$, determine quantos retângulos são necessários para que o erro do Método dos Retângulos de Reimann seja inferior a 0.00001.\n"
      ],
      "metadata": {
        "id": "NAnFCIKse_qN"
      }
    },
    {
      "cell_type": "markdown",
      "source": [
        "**Resposta: a área da região $R$ é $12$, e o número mínimo de retângulo é $9918$.** \\\\\n",
        "**Explicação:**\n",
        "\n",
        "Passo 1: Calcular a área aproximada da região $R$ com o Método dos Retângulos de Riemann \\\\\n",
        "Primeiro, vamos definir a diferença obtida através da subtração das funções $f(x)$ e $g(x)$:\n",
        "$$h(x) = f(x) - g(x) = \\left(\\frac{x}{2} + 5 \\right) - \\left(x + \\frac{1}{2} \\right) = \\frac{x}{2} + 5 - x  - \\frac{1}{2}$$\n",
        "$$h(x) = \\frac{x}{2} - \\frac{9}{2} $$\n",
        " Depois, definir $n$ subintervalos dividindo o intervalo $[1,5]$:\n",
        " $$Δx = \\frac{5 - 1}{n} = \\frac{4}{n}$$\n",
        " Usaremos o Método dos Retângulos à direita para obter a área; A soma de Riemann à direita se dá por:\n",
        " $$S_n = \\Sigma_{i = 1}^{n} h(a + i \\Delta x) Δx$$\n",
        " Código python abaixo.\n",
        " Passo 2: Encontrar a área exata integrando $h(x)$ no intervalo $[1,5]$\n",
        " $$A = \\int_{5}^{1} h(x)dx = \\int_{5}^{1}\\left(\\frac{x}{2} - \\frac{9}{2}\\right)dx$$\n",
        " $$= \\frac{1}{2}\\int x \\ dx - \\frac{9}{2}\\int 1 \\ dx$$\n",
        " $$= \\frac{1}{2} \\cdot \\frac{x^2}{2} - \\frac{9}{2}x$$\n",
        " $$= \\frac{x^2}{4} - \\frac{9x}{2}$$\n",
        " Calcular de $x = 1$ a $x = 5$ para obter a área exata:\n",
        " $$\\left[\\frac{x^2}{4} - \\frac{9x}{2} \\right]_{1}^{5}$$\n",
        " $$= \\left(\\frac{5^2}{4} - \\frac{9 \\cdot 5}{2}\\right) - \\left(\\frac{1^2}{4} - \\frac{9 \\cdot 1}{2}\\right)$$\n",
        "$$= \\left(\\frac{25}{4} - \\frac{45}{2}\\right) - \\left(\\frac{1}{4} - \\frac{9}{2}\\right)$$    \n",
        "$$= \\left(\\frac{25}{4} - \\frac{90}{4}\\right) - \\left(\\frac{1}{4} - \\frac{18}{4}\\right)$$\n",
        "$$= \\left(\\frac{-65}{4}\\right) - \\left(\\frac{-17}{4} \\right)$$\n",
        "$$= -\\frac{65}{4} + \\frac{17}{4}$$\n",
        "$$= - \\frac{48}{4}$$\n",
        "$$= -12$$\n",
        "\n",
        "Portanto, a área exata é $12$ (o valor é negativo pois $f(x)$ está acima de $g(x)$).\n",
        "\n",
        "Calcular quantos retângulos são necessários para que o erro do Método dos Retângulos de Reimann seja inferior a $0.00001$: \\\\\n",
        "Ver código abaixo\n",
        "\n",
        "\n",
        "\n",
        "\n",
        "    \n",
        "\n",
        "\n"
      ],
      "metadata": {
        "id": "zi7vmDrvcFus"
      }
    },
    {
      "cell_type": "code",
      "source": [
        "import numpy as np\n",
        "\n",
        "def f(x):\n",
        "    return x / 2 + 5\n",
        "\n",
        "def g(x):\n",
        "    return x + 0.5\n",
        "\n",
        "def h(x):\n",
        "    return g(x) - f(x)\n",
        "\n",
        "a = 1\n",
        "b = 5\n",
        "\n",
        "def riemann_sum(a, b, n):\n",
        "    delta_x = (b - a) / n\n",
        "    total_area = 0\n",
        "    for i in range(1, n + 1):\n",
        "        total_area += h(a + i * delta_x) * delta_x\n",
        "    return total_area\n",
        "\n",
        "n = 1000\n",
        "approx_area = riemann_sum(a, b, n)\n",
        "print(f\"Área aproximada usando Riemann com {n} retângulos: {approx_area}\")\n"
      ],
      "metadata": {
        "colab": {
          "base_uri": "https://localhost:8080/"
        },
        "id": "Ti5WXqY3kt8Y",
        "outputId": "dfb6ef8d-0a6d-426c-a899-3a569aaec515"
      },
      "execution_count": 7,
      "outputs": [
        {
          "output_type": "stream",
          "name": "stdout",
          "text": [
            "Área aproximada usando Riemann com 1000 retângulos: -11.996000000000002\n"
          ]
        }
      ]
    },
    {
      "cell_type": "code",
      "source": [
        "import numpy as np\n",
        "\n",
        "def f(x):\n",
        "    return x / 2 + 5\n",
        "\n",
        "def g(x):\n",
        "    return x + 0.5\n",
        "\n",
        "a = 1\n",
        "b = 5\n",
        "\n",
        "def approximate_area(a, b, n):\n",
        "    delta_x = (b - a) / n\n",
        "    x_values = np.linspace(a, b, n + 1)\n",
        "    return np.sum((g(x_values) - f(x_values)) * delta_x)\n",
        "\n",
        "exact_area = approximate_area(a, b, 10000)  # Calcular el área exacta con una gran cantidad de rectángulos\n",
        "\n",
        "tolerance = 0.00001\n",
        "\n",
        "n = 1\n",
        "while True:\n",
        "    approx_area = approximate_area(a, b, n)\n",
        "    if abs(approx_area - exact_area) < tolerance:\n",
        "        break\n",
        "    n += 1\n",
        "\n",
        "print(f\"Quantidade mínima de retângulos necessários: {n}\")\n"
      ],
      "metadata": {
        "colab": {
          "base_uri": "https://localhost:8080/"
        },
        "id": "FmE7jG75C1ys",
        "outputId": "8364edd3-46b8-49dc-8660-90eb5daf61e1"
      },
      "execution_count": 12,
      "outputs": [
        {
          "output_type": "stream",
          "name": "stdout",
          "text": [
            "Quantidade mínima de retângulos necessários: 9918\n"
          ]
        }
      ]
    },
    {
      "cell_type": "markdown",
      "source": [
        "# Questão 3 - Vale até 2 pontos\n",
        "\n",
        "Uma corda de escalada de $60 \\, m$ está pendurada ao lado de um penhasco alto livre de qualquer outra carga exceto seu próprio peso. (a) Quanto trabalho é realizado ao puxar a corda até o topo sabendo que a corda tem uma massa de $66\\, g/m$? (b) Em que ponto exatamente metade do trabalho foi realizado?"
      ],
      "metadata": {
        "id": "xi5mtHOmBcze"
      }
    },
    {
      "cell_type": "markdown",
      "source": [
        "**Resposta: (a) o trabalho realizado é de $1164.24$ Joules; (b) O ponto em que metade do trabalho é realizado é $17.58$ metros. \\\\\n",
        "Explicação:**\n",
        "\n",
        "**(a)**\n",
        "Sabemos que a corda tem massa igual a $66$ gramas por metro, e $60$ metros de comprimento. Realizando o cálculo:\n",
        "$$M = 66 \\cdot 60 = 3960 \\text{ gramas}$$\n",
        "Utilizado $kg$ como a unidade de peso:\n",
        "$$3960 \\div 1000 = 3,96 \\text{ kilogramas}$$\n",
        "Ou seja, a massa total da corda é $3,96$ kilogramas.\n",
        "\n",
        "Podemos calcular o trabalho realizado ao puxar a corda até o topo dividindo a corda em segmentos $dx$ e calculando a força necessária para puxar cada um, onde a força é proporcional a massa abaixo do segmento, sempre diminuindo.\n",
        "\n",
        "A força necessária para puxar um desses segmentos de comprimento $dx$ no ponto $x$ (partindo do topo) é:\n",
        "$$f(x) = μg(L - x)$$\n",
        "Onde $\\mu$ é a massa ($0.066$ kg/m), $g$ é a aceleração resultante da gravidade ($9.8$ m/s) e $L$ é o comprimento ($60$ m).\n",
        "\n",
        "Logo, o trabalho $dW$ para puxar um segmento $dx$ pode ser representado da seguinte forma:\n",
        "$$dW = f(x)dx = μg(L - x)dx$$\n",
        "\n",
        "E a integral para o trabalho total $W$, ao puxar a corda de $x = 0$ até $x= L$ é:\n",
        "$$W = \\int_{0}^{L} μg(L - x)dx$$\n",
        "\n",
        "Por fim, basta apenas resolver a integral e substituir os valores:\n",
        "$$W = μg \\int_{0}^{L} (L - x)dx$$\n",
        "$$W = μg \\left[Lx - \\frac{x^2}{2} \\right]_{0}^{L}$$\n",
        "$$W = μg \\left[L^2 - \\frac{L^2}{2} \\right]$$\n",
        "$$W = μg \\left[\\frac{L^2}{2} \\right]$$\n",
        "Substituindo:\n",
        "$$W = 0.066 \\cdot 9.8 \\cdot \\frac{60^2}{2}$$\n",
        "$$W = 0.066 \\cdot 9.8 \\cdot 1800$$\n",
        "$$W = 1164.24 \\text{ J}$$\n",
        "\n",
        "Portanto, temos que o trabalho realizado ao todo para puxar a corda até o topo é de $1164.24$ Joules.\n",
        "\n",
        "**(b)**\n",
        "O ponto em que metade do trabalho foi realizado pode ser encontrado ao encontrar $x = h$, onde o trabalho para puxar a corda de $x = 0$ até $x = h$ é igual a $\\frac{W}{2}$, ou seja, metade do trabalho.\n",
        "Representando como $W(h)$ o trabalho parcial realizado ao puxar a corda somente até $h$, temos a seguinte expressão:\n",
        "$$W(h) = \\int_{0}^{h} μg(L - x)dx$$\n",
        "Calcular a integral:\n",
        "$$W(h) = μg \\left[Lh - \\frac{h^2}{2} \\right]$$\n",
        "Sendo $W(h) = \\frac{W}{2}$ o resultado desejado, igualamos a expressão:\n",
        "$$W(h) = μg \\left[Lh - \\frac{h^2}{2} \\right] = \\frac{1}{2} μg \\frac{L^2}{2}$$\n",
        "Simplificar:\n",
        "$$W(h) = Lh - - \\frac{h^2}{2} = \\frac{L^2}{4}$$\n",
        "$$2Lh - h^2 = \\frac{L^2}{2}$$\n",
        "$$h^2 - 2Lh + \\frac{L^2}{2}$$\n",
        "Temos uma expressão do tipo $ax^2 + bx + c = 0$; Para encontrar $h$, podemos usar a fórmula quadrática:\n",
        "$$h = \\frac{-b \\pm \\sqrt{b^2 - 4ac}}{2 \\cdot a}$$\n",
        "Agora basta substituir:\n",
        "$$h = \\frac{2L \\pm \\sqrt{(2L)^2 - 4\\cdot 1 \\cdot \\frac{L^2}{2}}}{2 \\cdot 1}$$\n",
        "$$h = \\frac{2L \\pm \\sqrt{4L^2 - 2L^2}}{2}$$\n",
        "$$h = \\frac{2L \\pm \\sqrt{2L^2}}{2}$$\n",
        "$$h = \\frac{2L \\pm L\\sqrt{2}}{2}$$\n",
        "$$h = L\\frac{2 \\pm \\sqrt{2}}{2}$$\n",
        "$$h = L \\left(1 \\pm \\frac{\\sqrt{2}}{2} \\right)$$\n",
        "Podemos solucionar em razão de $L$ ou de $0$, pois $h$ está entre ambos. Em razão de $L$, substituindo por $60$:\n",
        "$$h = 60 \\left(1 - \\frac{\\sqrt{2}}{2} \\right)$$\n",
        "$$h = 60 \\left(1 - \\frac{1.414}{2} \\right)$$\n",
        "$$h = 60 \\left(1 - 0.707 \\right)$$\n",
        "$$h = 60 \\cdot 0.293$$\n",
        "$$h = 17.58 \\text{ m}$$\n",
        "Por fim, temos a solução: O ponto onde metade do trabalho foi realizado é $17.58$ metros.\n",
        "\n"
      ],
      "metadata": {
        "id": "tCLPVbAp96m9"
      }
    },
    {
      "cell_type": "markdown",
      "source": [
        "# Questão 4 - Vale até 2 pontos\n",
        "\n",
        "Resolva as integrais a seguir:\n",
        "\n",
        "a) $$\\int \\frac{7}{-3x + 1} \\, dx$$.\n",
        "\n",
        "b) $$\\int \\sin x \\cos x \\, dx$$\n",
        "\n",
        "c) $$\\int x \\sin(x^2 + 5)dx$$.\n",
        "\n",
        "d) $$\\int \\cos(5x)dx$$\n",
        "\n"
      ],
      "metadata": {
        "id": "LCbfM85WLMvd"
      }
    },
    {
      "cell_type": "markdown",
      "source": [
        "**(a)** \\\\\n",
        "Usando o método de substituição simples, definir uma nova variável que facilite a integração da expressão no denominador:\n",
        "$$v = -3x + 1$$\n",
        "Esboçar $v$ em relação a $x$:\n",
        "$$\\frac{dv}{dx} = -3$$\n",
        "$$dv = -3dx$$\n",
        "$$dx = \\frac{dv}{-3}$$\n",
        "Substituir $v$ e $dx$ na expressão original:\n",
        "$$\\int \\frac{7}{v} \\cdot \\frac{dv}{-3}$$\n",
        "$$\\int \\frac{7}{-3} \\cdot \\frac{1}{v}dv$$\n",
        "$$-\\frac{7}{3} \\int \\frac{1}{v} dv$$\n",
        "\n",
        "Definir a integral: \\\\\n",
        "A integral de $\\frac{1}{v}$m é $\\ln|v|$:\n",
        "$$-\\frac{7}{3} \\int \\frac{1}{v} dv = -\\frac{7}{3} \\ln + C$$\n",
        "\n",
        "**Por fim, basta apenas substituir $v$ e obtemos o resultado:**\n",
        "$$-\\frac{7}{3} ln + C = -\\frac{7}{3} \\ln |-3x + 1 + C|$$\n",
        "\n",
        "**(b)** \\\\\n",
        "Podemos resolver utilizando o mesmo método, de substituição simples:\n",
        "$$v = \\sin x$$\n",
        "Seguimos derivando $v$ em relação a $x$:\n",
        "$$\\frac{dv}{dx} = \\cos x$$\n",
        "$$dv = \\cos x \\ dx$$\n",
        "Reescrever a expressão substituindo os valores:\n",
        "$$\\int \\sin x \\cos x \\ dx = \\int v \\ dv$$\n",
        "Calcular a integral de $v$:\n",
        "$$\\int v \\ dv = \\frac{v^2}{2} + C$$\n",
        "**Por fim, obtemos o resultado ao substituir $v$ de volta a seu valor original, $\\sin x$:**\n",
        "$$\\int \\sin x \\cos x \\ dx = \\frac{\\sin^2 x}{2} + C$$\n",
        "\n",
        "**(c)** \\\\\n",
        "Novamente, usaremos o método da substituição:\n",
        "$$v = x^2 + 5$$\n",
        "Derivar em $x$:\n",
        "$$\\frac{dv}{dx} = 2x$$\n",
        "$$dv = 2x \\ dx$$\n",
        "$$\\frac{dv}{2} = x \\ dx$$\n",
        "Substituir na integral:\n",
        "$$\\int x \\sin(x^2 + 5)dx = \\int x \\sin(v) \\cdot \\frac{dv}{2}$$\n",
        "$$= \\frac{1}{2} \\int \\sin(v) \\ dv$$\n",
        "A integral de $\\sin(v)$ é $-cos(x)$; Podemos alterar a nova expressão desta forma:\n",
        "$$\\frac{1}{2} \\int \\sin(v) \\ dv = \\frac{1}{2} -\\cos(v) + C$$\n",
        "**Por fim, devemos apenas substituir $v$ de volta, obtendo nosso resultado:**\n",
        "$$\\frac{1}{2} -\\cos(v) + C$$\n",
        "$$= \\frac{1}{2} -\\cos(x^2 + 5) + C$$\n",
        "**(d)** \\\\\n",
        "Usando o método da substituição:\n",
        "$$v = 5x$$\n",
        "Derivar em relação a $x$:\n",
        "$$\\frac{dv}{dx} = 5$$\n",
        "$$dv = 5 \\ dx$$\n",
        "$$dx = \\frac{dv}{5}$$\n",
        "Substituir na integral:\n",
        "$$\\int \\cos(5x) \\ dx $$\n",
        "$$= \\int \\cos(v) \\cdot \\frac{dv}{5}$$\n",
        "$$= \\frac{1}{5} \\int \\cos(v) \\ dv$$\n",
        "A integral de $\\cos(v)$ é $\\sin(v)$. Com isso, alteramos a expressão desta forma:\n",
        "$$\\frac{1}{5} \\int \\cos(v) \\ dv = \\frac{1}{5}sin(v) + C$$\n",
        "**O último passo é substituir $v$ de volta a seu valor inicial, obtendo o resultado:**\n",
        "$$\\frac{1}{5}sin(v) + C = \\frac{1}{5}sin(5x) + C$$"
      ],
      "metadata": {
        "id": "6lTAq5AbU9Ct"
      }
    }
  ]
}