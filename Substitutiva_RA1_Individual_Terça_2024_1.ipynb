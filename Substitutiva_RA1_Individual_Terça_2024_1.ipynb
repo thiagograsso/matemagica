{
  "nbformat": 4,
  "nbformat_minor": 0,
  "metadata": {
    "colab": {
      "provenance": [],
      "include_colab_link": true
    },
    "kernelspec": {
      "name": "python3",
      "display_name": "Python 3"
    },
    "language_info": {
      "name": "python"
    }
  },
  "cells": [
    {
      "cell_type": "markdown",
      "metadata": {
        "id": "view-in-github",
        "colab_type": "text"
      },
      "source": [
        "<a href=\"https://colab.research.google.com/github/thiagograsso/matemagica/blob/main/Substitutiva_RA1_Individual_Ter%C3%A7a_2024_1.ipynb\" target=\"_parent\"><img src=\"https://colab.research.google.com/assets/colab-badge.svg\" alt=\"Open In Colab\"/></a>"
      ]
    },
    {
      "cell_type": "markdown",
      "source": [
        "# Avaliação De Recuperação INDIVIDUAL RA1 - 2024-1 (substitutiva)\n",
        "\n",
        "**Antes de começar, leia estas instruções cuidadosamente.**\n",
        "Esta avaliação é individual. Você poderá consultar qualquer fonte disponível na biblioteca, suas anotações ou na internet. Mas, não poderá consultar outras pessoas.\n",
        "\n",
        "Não existirão prorrogações de prazo de entrega.\n",
        "\n",
        "**Trabalhos contendo partes idênticas entregues por pessoas, diferentes, serão zerados.**\n",
        "\n",
        "Todos os trabalhos serão entregues em uma cópia deste caderno de atividades na forma de um link postado no AVA da instituição (Canvas). Todos os enunciados devem ser preservados e você deverá inserir uma célula de textos com o **seu nome**, logo após esta célula de texto de instruções.\n",
        "\n",
        "Qualquer alteração do caderno contendo as suas respostas que seja registrada após a data de postagem provocará a anulação da avaliação.\n",
        "\n",
        "Você poderá usar, neste notebook, apenas a linguagem python limitada ao uso das seguintes bibliotecas: numpy, sympy, matplotlib, ipWidgets e IPython. Todo e qualquer gráfico deverá ser criado usando o Python.\n",
        "\n",
        "Entrega será realizada com a postagem de um link para um ambiente de execução, no AVA da institução. Neste link o seu caderno deve permitir ser executado (permissão de leitor). Serão aceitos links diretos ao ambiente do Google Colaboratory, ou Links a um caderno do Google Colaboratory que tenha sido salvo pelo próprio Google Colaboratory no GitHub. Links para outro ambiente, ou que requeiram qualquer tipo de download, cliques extras, ou ainda, que requeiram aprovação para acesso, provocarão o zeramento desta avaliação.\n",
        "\n",
        "Todas as suas simplificações e considerações serão levadas em consideração. Contudo, lembre-se que estas questões devem ser resolvidas com álgebra formal e apenas álgebra.\n",
        "\n",
        "Se você encontrar algo errado nesta avaliação simplesmente anote suas observações na própria questão. Suas observações serão consideradas durante a avaliação e, em caso de pertinência, poderão encejar a anulação do item, ou questão, a critério do professor.\n",
        "\n",
        "Não é permitido usar qualquer técnica matemática baseada em derivação, cálculo numérico, séries de Taylor ou Leibntz, ou que fuja dos conteúdos apresenados em aula referentes ao estudo dos conteúdos referentes a esta avaliação.\n",
        "\n",
        "Esta avaliação aborda os conteúdos referentes a limites, fórmula das diferenças finitas e tangentes.\n",
        "\n",
        "**Lembrem-se a interpretação faz parte da questão.**\n"
      ],
      "metadata": {
        "id": "IYWLM47FgvAt"
      }
    },
    {
      "cell_type": "markdown",
      "source": [
        "**Exercício 1**\n"
      ],
      "metadata": {
        "id": "wEdCk1KjTZ_l"
      }
    },
    {
      "cell_type": "markdown",
      "source": [
        "## Questões\n",
        "Usando apenas álgebra encontre o limites solicitados a seguir e faça uma análise dos resultados encontrados. Para fazer a análise você pode usar as ferramentas que desejar, desde que seja possível verificar a validade das suas afirmações usando apenas este caderno de avaliação.\n",
        "\n",
        "Lembre-se você deve usar notação matemática na sua resposta. O que implica no uso de Latex nas células de texto deste caderno de avaliação.\n",
        "\n",
        "Observe que o cálculo do valor de tendência do limite, usando uma calculadora, site, ou ferramenta qualquer, por si só não pode ser usado como argumento na sua análise. Isso quer dizer que justificativas como o limite é $w$ porque o Sympy disse que era esse valor, não serão aceitas.\n",
        "\n",
        "### Exercício 1\n",
        "$$ \\lim_{x \\to 0} \\frac{\\sqrt{x+9} - 3}{x} $$\n",
        "\n",
        "### Exercício 2\n",
        "$$ \\lim_{x \\to \\infty} \\frac{25x + 7}{\\sqrt{5x^2 + 2}} $$\n",
        "\n",
        "### Exercício 3\n",
        "$$\n",
        "\\lim_{x \\to 1} f(x) \\text{ onde } f(x) = \\begin{cases}\n",
        "2x+1 & x \\leq 1 \\\\\n",
        "x^2 + 1 & x > 1\n",
        "\\end{cases}\n",
        "$$\n",
        "\n",
        "### Exercício 4\n",
        "$$\\lim_{x \\to -\\infty} (\\sqrt{x^2 - x} - x)$$\n",
        "\n",
        "**Atenção**: o sympy parece não calcular este limite corretamente.\n",
        "\n",
        "### Exercício 5\n",
        "$$ \\lim_{x \\to \\infty} \\frac{4x^2 + 3x - 5}{2x^2 - x + 1} $$\n",
        "\n",
        "**Rúbrica de avaliação**: cada limite corretamente determinado com a algebra demonstrada em notação matemática 1 ponto; cada análise consistente 1 ponto. Total 2 pontos por questão implicando em, no máximo 10 pontos."
      ],
      "metadata": {
        "id": "Hffk6Rtmhaga"
      }
    },
    {
      "cell_type": "markdown",
      "source": [
        "**Exercício 1**\n",
        "$$ \\lim_{x \\to 0} \\frac{\\sqrt{x+9} - 3}{x} $$\n",
        "Ao substituir $x$ por $0$ na expressão, o resultado é $\\frac{0}{0}$.\n",
        "Podemos racionalizar para obter um resultado diferente:\n",
        "$$\\frac{\\sqrt{x + 9} - 3}{x} \\times \\frac{\\sqrt{x + 9} + 3}{\\sqrt{x + 9} + 3}$$\n",
        "Após as contas:\n",
        "$$\\frac{1}{\\sqrt{x + 9} + 3}$$\n",
        "Agora é possível substituir $x$ por $0$ na expressão, obtendo:\n",
        "$$\\frac{1}{\\sqrt{0 + 9} + 3} = \\frac{1}{6}$$\n",
        "Logo, o limite da funçao é:\n",
        "$$\\frac{1}{6}$$"
      ],
      "metadata": {
        "id": "RSvAgUWyUK0q"
      }
    },
    {
      "cell_type": "code",
      "source": [
        "import sympy as sp\n",
        "import numpy as np\n",
        "import matplotlib.pyplot as plt\n",
        "\n",
        "x_sym = sp.symbols('x')\n",
        "\n",
        "funcao_sym = (sp.sqrt(x_sym + 9) - 3) / x_sym\n",
        "\n",
        "limite = sp.limit(funcao_sym, x_sym, 0)\n",
        "\n",
        "f = sp.lambdify(x_sym, funcao_sym, 'numpy')\n",
        "\n",
        "x_vals = np.linspace(-2, 2, 400)\n",
        "x_vals = x_vals[x_vals != 0]\n",
        "\n",
        "y_vals = f(x_vals)\n",
        "\n",
        "plt.plot(x_vals, y_vals, label=r'$f(x) = \\frac{\\sqrt{x + 9} - 3}{x}$')\n",
        "\n",
        "plt.scatter([0], [limite], s=30, facecolors='white', edgecolors='black')\n",
        "\n",
        "plt.plot([0, 0], [0, limite], 'orange', linestyle='--')\n",
        "\n",
        "plt.plot([-2, 2], [limite, limite], 'orange', linestyle='--')\n",
        "\n",
        "plt.xlabel('x')\n",
        "plt.ylabel('f(x)')\n",
        "plt.title(r'Gráfico de $f(x) = \\frac{\\sqrt{x + 9} - 3}{x}$', loc='right')\n",
        "plt.legend()\n",
        "\n",
        "plt.annotate('', xy=(2, 0), xytext=(-2, 0),\n",
        "             arrowprops=dict(arrowstyle=\"->\", color='green'))\n",
        "\n",
        "plt.annotate('', xy=(0, max(y_vals)+0.2), xytext=(0, min(y_vals)-0.2),\n",
        "             arrowprops=dict(arrowstyle=\"->\", color='green'))\n",
        "\n",
        "plt.text(2, 0, 'x', ha='left', va='center', fontsize=12)\n",
        "plt.text(0, max(y_vals)+0.2, 'y', ha='center', va='bottom', fontsize=12)\n",
        "\n",
        "plt.text(0.1, limite + 0.1, f'({0}, {limite})', fontsize=10)\n",
        "\n",
        "plt.xlim(-2, 2)\n",
        "plt.ylim(min(y_vals)-0.2, max(y_vals)+0.2)\n",
        "\n",
        "plt.xticks(np.arange(-2, 3, 0.5))\n",
        "plt.yticks(np.arange(min(y_vals)-0.2, max(y_vals)+0.2, 0.2))\n",
        "\n",
        "plt.grid(True, which='both', axis='both', color='lightgray', linestyle='-', linewidth=0.5)\n",
        "\n",
        "plt.show()\n"
      ],
      "metadata": {
        "id": "LC0nnE8_Tw_x"
      },
      "execution_count": null,
      "outputs": []
    },
    {
      "cell_type": "markdown",
      "source": [
        "**Exercício 2**\n",
        "$$ \\lim_{x \\to \\infty} \\frac{25x + 7}{\\sqrt{5x^2 + 2}} $$\n",
        "Novamente, substituir $x$ na expressão resulta em indeterminado $\\frac{\\infty}{\\sqrt{∞}}$\n",
        "Podemos dividir o numerador e denominador por $x$ para obter outro resultado:\n",
        "$$\\frac{\\frac{25}{x} + \\frac{7}{x}}{\\sqrt \\frac{5x^2 }{x^2 } + \\frac{2}{x^2}}$$ $$=$$  $$\\frac{25 + \\frac{7}{x}}{\\sqrt{5 + \\frac{2}{x^2}}}$$\n",
        "Quando $x$ tende a $\\infty$, ambas fraçoes no denominador e numerador tendem $0$:\n",
        "$$\\frac{25 + 0}{\\sqrt{5 + 0}} = \\frac{25}{\\sqrt5}$$\n",
        "Portanto, o limite da função quando $x$ tende ao infinito é $$\\frac{25}{\\sqrt{5}}$$\n"
      ],
      "metadata": {
        "id": "xf8785KyaD77"
      }
    },
    {
      "cell_type": "code",
      "source": [
        "import sympy as sp\n",
        "import numpy as np\n",
        "import matplotlib.pyplot as plt\n",
        "\n",
        "\n",
        "x_sym = sp.symbols('x')\n",
        "\n",
        "funcao_sym = (25*x_sym + 7) / sp.sqrt(5*x_sym**2 + 2)\n",
        "\n",
        "limite = sp.limit(funcao_sym, x_sym, sp.oo)\n",
        "\n",
        "f = sp.lambdify(x_sym, funcao_sym, 'numpy')\n",
        "x_vals = np.linspace(-10, 10, 400)\n",
        "x_vals = x_vals[x_vals != 0]\n",
        "\n",
        "y_vals = f(x_vals)\n",
        "\n",
        "plt.plot(x_vals, y_vals, label=r'$f(x) = \\frac{25x + 7}{\\sqrt{5x^2 + 2}}$')\n",
        "\n",
        "plt.scatter([float('inf')], [limite], s=30, facecolors='white', edgecolors='black')\n",
        "\n",
        "plt.axhline(y=limite, color='orange', linestyle='--', label='Limite')\n",
        "\n",
        "plt.xlabel('x')\n",
        "plt.ylabel('f(x)')\n",
        "plt.title(r'Gráfico de $f(x) = \\frac{25x + 7}{\\sqrt{5x^2 + 2}}$', loc='right')\n",
        "plt.legend()\n",
        "\n",
        "plt.annotate('', xy=(0, limite+1), xytext=(0, limite-1),\n",
        "             arrowprops=dict(arrowstyle=\"->\", color='green'))\n",
        "\n",
        "plt.text(0, limite+1, 'y', ha='center', va='bottom', fontsize=12)\n",
        "\n",
        "plt.text(10, limite + 1, fr'($\\infty$, {limite})', fontsize=10)\n",
        "\n",
        "plt.xlim(-10, 10)\n",
        "plt.ylim(limite-1, limite+1)\n",
        "\n",
        "plt.xticks(np.arange(-10, 11, 1))\n",
        "plt.yticks(np.arange(int(limite)-1, int(limite)+2, 1))\n",
        "\n",
        "plt.grid(True, which='both', axis='both', color='lightgray', linestyle='-', linewidth=0.5)\n",
        "\n",
        "plt.show()\n"
      ],
      "metadata": {
        "id": "ewE-LNwIeDHs"
      },
      "execution_count": null,
      "outputs": []
    },
    {
      "cell_type": "markdown",
      "source": [
        "**Exercício 3**\n",
        "$$\n",
        "\\lim_{x \\to 1} f(x) \\text{ onde } f(x) = \\begin{cases}\n",
        "2x+1 & x \\leq 1 \\\\\n",
        "x^2 + 1 & x > 1\n",
        "\\end{cases}\n",
        "$$\n",
        "Substituir $x$ por $1$ na expressão da função:\n",
        "\n",
        "$$\\begin{cases} 2x + 1 &  x \\leq 1 \\\\ \\ x^2 + 1 &  x > 1 \\end{cases}$$\n",
        "Então avaliar o limite para $x → 1$ em ambos os lados:\n",
        "$$(2x + 1) = 2 \\times 1 + 1 = 3$$\n",
        "e\n",
        "$$(x^2 + 1) = 1 + 1 = 2$$\n",
        "Os limites laterais são distintos, portanto o limite é impossível (não existe)."
      ],
      "metadata": {
        "id": "cfhgLze2ejo_"
      }
    },
    {
      "cell_type": "code",
      "source": [
        "import numpy as np\n",
        "import matplotlib.pyplot as plt\n",
        "\n",
        "def f(x):\n",
        "    if x <= 1:\n",
        "        return 2*x + 1\n",
        "    else:\n",
        "        return x**2 + 1\n",
        "\n",
        "x_vals = np.linspace(0.5, 1.5, 400)\n",
        "\n",
        "y_vals = [f(x) for x in x_vals]\n",
        "\n",
        "plt.plot(x_vals, y_vals, label=r'$f(x) = \\begin{cases} 2x + 1, & \\text{se } x \\leq 1 \\\\ x^2 + 1, & \\text{se } x > 1 \\end{cases}$')\n",
        "\n",
        "plt.scatter([1], [3], s=30, facecolors='white', edgecolors='black')\n",
        "plt.scatter([1], [2], s=30, facecolors='white', edgecolors='black')\n",
        "\n",
        "plt.axhline(y=3, color='orange', linestyle='--', label='Limite lateral esquerdo')\n",
        "plt.axhline(y=2, color='orange', linestyle='--', label='Limite lateral direito')\n",
        "\n",
        "plt.xlabel('x')\n",
        "plt.ylabel('f(x)')\n",
        "plt.title(r'Gráfico de $f(x)$', loc='right')\n",
        "plt.legend()\n",
        "\n",
        "plt.xlim(0.5, 1.5)\n",
        "plt.ylim(1.5, 3.5)\n",
        "\n",
        "plt.xticks(np.arange(0.5, 1.6, 0.1))\n",
        "plt.yticks(np.arange(1.5, 3.6, 0.1))\n",
        "\n",
        "plt.grid(True, which='both', axis='both', color='lightgray', linestyle='-', linewidth=0.5)\n",
        "\n",
        "plt.show()\n"
      ],
      "metadata": {
        "id": "uY_GWTiniN1w"
      },
      "execution_count": null,
      "outputs": []
    },
    {
      "cell_type": "markdown",
      "source": [
        "**Exercício 4**\n",
        "$$\\lim_{x \\to -\\infty} (\\sqrt{x^2 - x} - x)$$\n",
        "Quando $x$ tende ao infinito, $x^2$ vira dominante, permitindo simplificar a raíz desta forma:\n",
        "$$\\lim_{x \\to -\\infty} (\\sqrt{x^2} - x)$$ $$ = $$ $$\\lim_{x \\to -\\infty} (x - x)  $$ $$ = $$ $$ \\lim_{x \\to -\\infty} 0$$\n",
        "O limite da expressão quando tende ao infinito é, portanto:\n",
        "$$0$$"
      ],
      "metadata": {
        "id": "cl3Am9XvidAD"
      }
    },
    {
      "cell_type": "code",
      "source": [
        "import numpy as np\n",
        "import matplotlib.pyplot as plt\n",
        "\n",
        "def f(x):\n",
        "    return np.sqrt(x**2 - x) - x\n",
        "\n",
        "x_vals = np.linspace(1, 10, 400)\n",
        "\n",
        "y_vals = f(x_vals)\n",
        "\n",
        "plt.plot(x_vals, y_vals, label=r'$f(x) = \\sqrt{x^2 - x} - x$')\n",
        "\n",
        "plt.axhline(y=0, color='orange', linestyle='--', label='Limite')\n",
        "\n",
        "plt.xlabel('x')\n",
        "plt.ylabel('f(x)')\n",
        "plt.title(r'Gráfico de $f(x) = \\sqrt{x^2 - x} - x$', loc='right')\n",
        "plt.legend()\n",
        "\n",
        "plt.annotate('', xy=(1, 0), xytext=(1, -1),\n",
        "             arrowprops=dict(arrowstyle=\"->\", color='green'))\n",
        "\n",
        "plt.text(1, -1, 'y', ha='right', va='bottom', fontsize=12)\n",
        "\n",
        "plt.show()\n"
      ],
      "metadata": {
        "id": "isvGzubmkv6w"
      },
      "execution_count": null,
      "outputs": []
    },
    {
      "cell_type": "markdown",
      "source": [
        "**Exercicío 5**\n",
        "$$ \\lim_{x \\to \\infty} \\frac{4x^2 + 3x - 5}{2x^2 - x + 1} $$\n",
        "O primeiro passo é dividir os termos por $x^2$:\n",
        "$$ \\lim_{x \\to \\infty} \\frac{4 + \\frac{3}{x} - \\frac{5}{x^2}}{2 - \\frac{1}{x} + \\frac{1}{x^2}} $$\n",
        "Quando $x$ tende a $\\infty$, ambas as frações no denominador e numerador tendem a $0$:\n",
        "$$\\frac{4 + 0 - 0}{2 - 0 + 0} = \\frac{4}{2} = 2$$\n",
        "Portanto, quando $x$ tende ao infinite, o limite da função é: $$2$$"
      ],
      "metadata": {
        "id": "D6KkinDKl-3R"
      }
    },
    {
      "cell_type": "code",
      "source": [
        "import numpy as np\n",
        "import matplotlib.pyplot as plt\n",
        "\n",
        "\n",
        "def f(x):\n",
        "    return (4*x**2 + 3*x - 5) / (2*x**2 - x + 1)\n",
        "\n",
        "x_vals = np.linspace(-10, 10, 400)\n",
        "x_vals = x_vals[x_vals != 0]\n",
        "\n",
        "y_vals = f(x_vals)\n",
        "\n",
        "plt.plot(x_vals, y_vals, label=r'$f(x) = \\frac{4x^2 + 3x - 5}{2x^2 - x + 1}$')\n",
        "\n",
        "plt.axhline(y=2, color='orange', linestyle='--', label='Limite')\n",
        "\n",
        "plt.xlabel('x')\n",
        "plt.ylabel('f(x)')\n",
        "plt.title(r'Gráfico de $f(x) = \\frac{4x^2 + 3x - 5}{2x^2 - x + 1}$', loc='right')\n",
        "plt.legend()\n",
        "\n",
        "plt.annotate('', xy=(10, 2), xytext=(-10, 2),\n",
        "             arrowprops=dict(arrowstyle=\"->\", color='green'))\n",
        "\n",
        "plt.text(10, 2, 'y', ha='right', va='bottom', fontsize=12)\n",
        "\n",
        "plt.show()\n"
      ],
      "metadata": {
        "id": "YDmFe3g8n-us"
      },
      "execution_count": null,
      "outputs": []
    },
    {
      "cell_type": "markdown",
      "source": [
        "As análises podem ser feitas por meio da análise gráfica, ou da ánálise dos limites laterais (aproximações pela esquerda e pela direita. Serão avaliadas de acordo com o que for apresentado por cada aluno.\n"
      ],
      "metadata": {
        "id": "IhdeU66tVqpl"
      }
    }
  ]
}